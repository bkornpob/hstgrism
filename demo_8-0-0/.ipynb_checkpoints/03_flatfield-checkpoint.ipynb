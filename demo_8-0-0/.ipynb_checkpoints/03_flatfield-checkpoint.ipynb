{
 "cells": [
  {
   "cell_type": "markdown",
   "metadata": {},
   "source": [
    "Kornpob Bhirombhakdi\n",
    "\n",
    "kbhirombhakdi@stsci.edu\n",
    "\n",
    "# Description\n",
    "We create a flatfield image in this Notebook. See [aXe](https://www.stsci.edu/scientific-community/software/axe) for more details about flatfield image.\n",
    "\n",
    "To proceed, we use hstgrism.flatfield.FlatField class. Inputs include i) corresponding aXe flat file to the grism filter, ii) xyref, and iii) dldp. xyref and dldp can be found in trace.csv if produced by earlier steps.\n",
    "\n",
    "To save, Container must be specified, and the full-frame flatfield image would be saved as ./savefolder/saveprefix_fullflat.fits. \n",
    "\n",
    "A user can set save(do_cutout=True) and specify bb0x,bb1x,bb0y,bb1y (which can be found in bbcorner.csv if produced by earlier steps). This will also save a 2D cutout of the flatfield image as saveprefix_cutflat.fits.\n"
   ]
  },
  {
   "cell_type": "code",
   "execution_count": 1,
   "metadata": {},
   "outputs": [],
   "source": [
    "from hstgrism.container import Container\n",
    "from hstgrism.flatfield import FlatField\n",
    "import pandas as pd\n",
    "\n"
   ]
  },
  {
   "cell_type": "code",
   "execution_count": 2,
   "metadata": {},
   "outputs": [
    {
     "name": "stderr",
     "output_type": "stream",
     "text": [
      "/Users/kbhirombhakdi/anaconda3/envs/py3/lib/python3.7/site-packages/hstgrism/container.py:31: UserWarning: Folder testfolder already exists. To create a fresh folder, set overwrite = True\n",
      "  warnings.warn(string)\n"
     ]
    }
   ],
   "source": [
    "saveprefix = 'testprefix'\n",
    "savefolder = 'testfolder'\n",
    "plotformat = 'pdf'\n",
    "overwrite = False\n",
    "\n",
    "container_params = {'saveprefix':saveprefix,\n",
    "                    'savefolder':savefolder,\n",
    "                    'plotformat':plotformat,\n",
    "                    'overwrite':overwrite\n",
    "                   }\n",
    "containerobj = Container(**container_params)\n"
   ]
  },
  {
   "cell_type": "code",
   "execution_count": 3,
   "metadata": {},
   "outputs": [
    {
     "name": "stdout",
     "output_type": "stream",
     "text": [
      "Save ./testfolder/testprefix_fullflat.fits\n",
      "Save ./testfolder/testprefix_cutflat.fits\n"
     ]
    }
   ],
   "source": [
    "flatfile = '/Users/kbhirombhakdi/_work/_calib_files/WFC3.IR.G102.cal.V4.32/WFC3.IR.G102.flat.2.fits'\n",
    "tfile = './testfolder/testprefix_trace.csv'\n",
    "tdata = pd.read_csv(tfile)\n",
    "bbcorner = './testfolder/testprefix_bbcorner.csv'\n",
    "bbdata = pd.read_csv(bbcorner)\n",
    "\n",
    "flatobj = FlatField(container=containerobj,flatfile=flatfile,xyref=tdata.xyref,dldp=tdata.dldp)\n",
    "flatobj.compute()\n",
    "flatobj.save(do_cutout=True,\n",
    "             bb0x=bbdata.bb0x[0],bb1x=bbdata.bb1x[0],bb0y=bbdata.bb0y[0],bb1y=bbdata.bb1y[0])\n"
   ]
  },
  {
   "cell_type": "code",
   "execution_count": null,
   "metadata": {},
   "outputs": [],
   "source": []
  }
 ],
 "metadata": {
  "kernelspec": {
   "display_name": "Python 3",
   "language": "python",
   "name": "python3"
  },
  "language_info": {
   "codemirror_mode": {
    "name": "ipython",
    "version": 3
   },
   "file_extension": ".py",
   "mimetype": "text/x-python",
   "name": "python",
   "nbconvert_exporter": "python",
   "pygments_lexer": "ipython3",
   "version": "3.7.6"
  }
 },
 "nbformat": 4,
 "nbformat_minor": 4
}
